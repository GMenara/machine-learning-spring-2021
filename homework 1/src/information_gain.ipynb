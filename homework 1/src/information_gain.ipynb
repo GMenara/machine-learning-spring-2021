{
 "cells": [
  {
   "cell_type": "code",
   "execution_count": null,
   "metadata": {},
   "outputs": [],
   "source": [
    "def information_gain(data, split_attribute_name, target_attribute_name):\n",
    "    data_split = data.groupby(split_attribute_name) \n",
    "    aggregated_data = data_split.agg({target_attribute_name : [calculate_entropy_of_the_list, lambda x: len(x)/(len(data.index) * 1.0)] })[target_attribute_name]\n",
    "    aggregated_data.columns = ['Entropy', 'ProbObservations']\n",
    "    new_entropy = sum( aggregated_data['Entropy'] * aggregated_data['ProbObservations'] )\n",
    "    old_entropy = calculate_entropy_of_the_list(data[target_attribute_name])\n",
    "    return old_entropy-new_entropy"
   ]
  }
 ],
 "metadata": {
  "kernelspec": {
   "display_name": "Python 3",
   "language": "python",
   "name": "python3"
  },
  "language_info": {
   "codemirror_mode": {
    "name": "ipython",
    "version": 3
   },
   "file_extension": ".py",
   "mimetype": "text/x-python",
   "name": "python",
   "nbconvert_exporter": "python",
   "pygments_lexer": "ipython3",
   "version": "3.6.7"
  }
 },
 "nbformat": 4,
 "nbformat_minor": 2
}
